{
  "nbformat": 4,
  "nbformat_minor": 0,
  "metadata": {
    "colab": {
      "provenance": []
    },
    "kernelspec": {
      "name": "python3",
      "display_name": "Python 3"
    },
    "language_info": {
      "name": "python"
    }
  },
  "cells": [
    {
      "cell_type": "code",
      "execution_count": 46,
      "metadata": {
        "id": "6ZfztMURxHbh"
      },
      "outputs": [],
      "source": [
        "import warnings\n",
        "warnings.filterwarnings(\"ignore\")"
      ]
    },
    {
      "cell_type": "code",
      "source": [
        "import pandas as pd\n",
        "import numpy as np\n",
        "import matplotlib.pyplot as plt\n",
        "from sklearn.impute import SimpleImputer\n",
        "from sklearn.preprocessing import LabelEncoder, StandardScaler\n",
        "from sklearn.model_selection import train_test_split, GridSearchCV, cross_val_score\n",
        "from sklearn.tree import DecisionTreeClassifier\n",
        "from sklearn.svm import SVC\n",
        "from sklearn.ensemble import RandomForestClassifier, AdaBoostClassifier\n",
        "from sklearn.metrics import accuracy_score, confusion_matrix, classification_report, log_loss\n",
        "from sklearn.linear_model import LogisticRegression\n",
        "from sklearn.datasets import fetch_openml\n",
        "from sklearn.metrics import precision_score, recall_score, f1_score, roc_auc_score"
      ],
      "metadata": {
        "id": "BtXxHrBwxcXU"
      },
      "execution_count": 47,
      "outputs": []
    },
    {
      "cell_type": "code",
      "source": [
        "# Load the MNIST dataset\n",
        "mnist = fetch_openml('mnist_784')\n",
        "\n",
        "# Extract the feature matrix X and the target vector y\n",
        "X = mnist.data[:3000]\n",
        "y = mnist.target[:3000]"
      ],
      "metadata": {
        "id": "ytlakTkwxnoL"
      },
      "execution_count": 64,
      "outputs": []
    },
    {
      "cell_type": "code",
      "source": [
        "# Select the first 10 features\n",
        "X = X.iloc[:, :30]"
      ],
      "metadata": {
        "id": "j4WeYZQs9yRg"
      },
      "execution_count": 65,
      "outputs": []
    },
    {
      "cell_type": "code",
      "source": [
        "print(\"X shape : \",X.shape)\n",
        "print(\"X shape : \",y.shape)"
      ],
      "metadata": {
        "colab": {
          "base_uri": "https://localhost:8080/"
        },
        "id": "7sQLYNkB9aEo",
        "outputId": "a946ef77-ddec-4163-9d9e-54157615f481"
      },
      "execution_count": 66,
      "outputs": [
        {
          "output_type": "stream",
          "name": "stdout",
          "text": [
            "X shape :  (3000, 30)\n",
            "X shape :  (3000,)\n"
          ]
        }
      ]
    },
    {
      "cell_type": "code",
      "source": [
        "# Read the data from the CSV file\n",
        "data = pd.read_csv('heart_data_updated.csv')\n",
        "column_names = data.columns.tolist()\n",
        "print(column_names)"
      ],
      "metadata": {
        "colab": {
          "base_uri": "https://localhost:8080/"
        },
        "id": "K7SeInhl_nRe",
        "outputId": "4a3a96da-4dba-415d-810e-ea031195abbb"
      },
      "execution_count": 70,
      "outputs": [
        {
          "output_type": "stream",
          "name": "stdout",
          "text": [
            "['age', 'gender', 'blood_pressure', 'cholesterol', 'max_heart_rate', 'exercise_angina', 'st_depression', 'heart_disease', 'blood_pressure_above_120', 'chest_pain_asymptomatic', 'chest_pain_atypical', 'chest_pain_non-anginal', 'chest_pain_typical', 'rest_ecg_LVH', 'rest_ecg_ST-T', 'rest_ecg_normal']\n"
          ]
        }
      ]
    },
    {
      "cell_type": "code",
      "source": [
        "X = data.drop('rest_ecg_normal', axis=1)\n",
        "y = data['rest_ecg_normal']\n"
      ],
      "metadata": {
        "id": "Hu4Eeh6k_uPp"
      },
      "execution_count": 71,
      "outputs": []
    },
    {
      "cell_type": "code",
      "source": [
        "scaler = StandardScaler()\n",
        "scaler.fit(X)\n",
        "X_scaled = scaler.transform(X)"
      ],
      "metadata": {
        "id": "87eRX1XyzBbg"
      },
      "execution_count": 72,
      "outputs": []
    },
    {
      "cell_type": "code",
      "source": [
        "X_train,X_test,y_train,y_test = train_test_split(X_scaled,y,test_size=.33,shuffle=True,random_state=22)"
      ],
      "metadata": {
        "id": "t28Qh5-xx0pc"
      },
      "execution_count": 73,
      "outputs": []
    },
    {
      "cell_type": "markdown",
      "source": [
        "## **SVM**"
      ],
      "metadata": {
        "id": "SnypByu2zIQC"
      }
    },
    {
      "cell_type": "code",
      "source": [
        "# Define the parameter grid to search\n",
        "param_grid = {\n",
        "    'kernel': ['linear', 'poly', 'rbf', 'sigmoid'],\n",
        "    'degree': [2,4],\n",
        "    'C': [0.1, 1, 5],\n",
        "    'gamma': ['scale', 'auto']\n",
        "}\n",
        "\n",
        "# Create a grid search object with cross-validation\n",
        "grid_search = GridSearchCV(SVC(), param_grid, cv=5)\n",
        "\n",
        "# Fit the grid search object to the data\n",
        "svm = grid_search.fit(X_train, y_train)\n",
        "best_params = grid_search.best_params_\n",
        "# Print the best hyperparameters and corresponding accuracy\n",
        "print(\"Best Hyperparameters: \", best_params)\n",
        "print(\"Best Accuracy: \", grid_search.best_score_)"
      ],
      "metadata": {
        "colab": {
          "base_uri": "https://localhost:8080/"
        },
        "id": "jLFVCXjEzD2s",
        "outputId": "f4f94413-ce9a-49ad-f7d8-c04fff7aef10"
      },
      "execution_count": 74,
      "outputs": [
        {
          "output_type": "stream",
          "name": "stdout",
          "text": [
            "Best Hyperparameters:  {'C': 0.1, 'degree': 2, 'gamma': 'scale', 'kernel': 'linear'}\n",
            "Best Accuracy:  1.0\n"
          ]
        }
      ]
    },
    {
      "cell_type": "markdown",
      "source": [
        "## ***Best SVM Model***"
      ],
      "metadata": {
        "id": "djSHwbnT0BcD"
      }
    },
    {
      "cell_type": "code",
      "source": [
        "svm = SVC(C=best_params[\"C\"], degree=best_params[\"degree\"], gamma='scale', kernel=best_params['kernel'], probability=True)\n",
        "# Train the SVM model on the training data\n",
        "svm.fit(X_train, y_train)\n",
        "\n",
        "# Make predictions on the testing data\n",
        "y_pred = svm.predict(X_test)\n",
        "\n",
        "# Calculate the accuracy of the SVM model\n",
        "accuracy = accuracy_score(y_test, y_pred)\n",
        "print('SVM Accuracy:', accuracy)"
      ],
      "metadata": {
        "colab": {
          "base_uri": "https://localhost:8080/"
        },
        "id": "_FCdkysCzaoy",
        "outputId": "993017b1-3dcd-4192-e34d-eb02b860fd1d"
      },
      "execution_count": 75,
      "outputs": [
        {
          "output_type": "stream",
          "name": "stdout",
          "text": [
            "SVM Accuracy: 1.0\n"
          ]
        }
      ]
    },
    {
      "cell_type": "markdown",
      "source": [
        "## ***DecisionTreeClassifier***"
      ],
      "metadata": {
        "id": "m_6B6BWM0W8h"
      }
    },
    {
      "cell_type": "code",
      "source": [
        "# Define the parameter grid\n",
        "param_grid = {\n",
        "    'criterion': ['gini', 'entropy'],\n",
        "    'max_depth': [3, 4, 5],\n",
        "    'random_state': [22]\n",
        "}\n",
        "\n",
        "# Create the decision tree classifier\n",
        "clf = DecisionTreeClassifier()\n",
        "\n",
        "# Perform grid search\n",
        "grid_search = GridSearchCV(clf, param_grid, cv=5)\n",
        "grid_search.fit(X_train, y_train)\n",
        "\n",
        "# Get the best parameters and best score\n",
        "best_params = grid_search.best_params_\n",
        "best_score = grid_search.best_score_\n",
        "\n",
        "# Train the decision tree with the best parameters\n",
        "DecisionTree = DecisionTreeClassifier(**best_params)\n",
        "DecisionTree.fit(X_train, y_train)"
      ],
      "metadata": {
        "colab": {
          "base_uri": "https://localhost:8080/",
          "height": 75
        },
        "id": "r0NYoAs40XWV",
        "outputId": "4f035c2f-6bc8-4cce-a8b4-7f769b4120a3"
      },
      "execution_count": 76,
      "outputs": [
        {
          "output_type": "execute_result",
          "data": {
            "text/plain": [
              "DecisionTreeClassifier(max_depth=3, random_state=22)"
            ],
            "text/html": [
              "<style>#sk-container-id-4 {color: black;background-color: white;}#sk-container-id-4 pre{padding: 0;}#sk-container-id-4 div.sk-toggleable {background-color: white;}#sk-container-id-4 label.sk-toggleable__label {cursor: pointer;display: block;width: 100%;margin-bottom: 0;padding: 0.3em;box-sizing: border-box;text-align: center;}#sk-container-id-4 label.sk-toggleable__label-arrow:before {content: \"▸\";float: left;margin-right: 0.25em;color: #696969;}#sk-container-id-4 label.sk-toggleable__label-arrow:hover:before {color: black;}#sk-container-id-4 div.sk-estimator:hover label.sk-toggleable__label-arrow:before {color: black;}#sk-container-id-4 div.sk-toggleable__content {max-height: 0;max-width: 0;overflow: hidden;text-align: left;background-color: #f0f8ff;}#sk-container-id-4 div.sk-toggleable__content pre {margin: 0.2em;color: black;border-radius: 0.25em;background-color: #f0f8ff;}#sk-container-id-4 input.sk-toggleable__control:checked~div.sk-toggleable__content {max-height: 200px;max-width: 100%;overflow: auto;}#sk-container-id-4 input.sk-toggleable__control:checked~label.sk-toggleable__label-arrow:before {content: \"▾\";}#sk-container-id-4 div.sk-estimator input.sk-toggleable__control:checked~label.sk-toggleable__label {background-color: #d4ebff;}#sk-container-id-4 div.sk-label input.sk-toggleable__control:checked~label.sk-toggleable__label {background-color: #d4ebff;}#sk-container-id-4 input.sk-hidden--visually {border: 0;clip: rect(1px 1px 1px 1px);clip: rect(1px, 1px, 1px, 1px);height: 1px;margin: -1px;overflow: hidden;padding: 0;position: absolute;width: 1px;}#sk-container-id-4 div.sk-estimator {font-family: monospace;background-color: #f0f8ff;border: 1px dotted black;border-radius: 0.25em;box-sizing: border-box;margin-bottom: 0.5em;}#sk-container-id-4 div.sk-estimator:hover {background-color: #d4ebff;}#sk-container-id-4 div.sk-parallel-item::after {content: \"\";width: 100%;border-bottom: 1px solid gray;flex-grow: 1;}#sk-container-id-4 div.sk-label:hover label.sk-toggleable__label {background-color: #d4ebff;}#sk-container-id-4 div.sk-serial::before {content: \"\";position: absolute;border-left: 1px solid gray;box-sizing: border-box;top: 0;bottom: 0;left: 50%;z-index: 0;}#sk-container-id-4 div.sk-serial {display: flex;flex-direction: column;align-items: center;background-color: white;padding-right: 0.2em;padding-left: 0.2em;position: relative;}#sk-container-id-4 div.sk-item {position: relative;z-index: 1;}#sk-container-id-4 div.sk-parallel {display: flex;align-items: stretch;justify-content: center;background-color: white;position: relative;}#sk-container-id-4 div.sk-item::before, #sk-container-id-4 div.sk-parallel-item::before {content: \"\";position: absolute;border-left: 1px solid gray;box-sizing: border-box;top: 0;bottom: 0;left: 50%;z-index: -1;}#sk-container-id-4 div.sk-parallel-item {display: flex;flex-direction: column;z-index: 1;position: relative;background-color: white;}#sk-container-id-4 div.sk-parallel-item:first-child::after {align-self: flex-end;width: 50%;}#sk-container-id-4 div.sk-parallel-item:last-child::after {align-self: flex-start;width: 50%;}#sk-container-id-4 div.sk-parallel-item:only-child::after {width: 0;}#sk-container-id-4 div.sk-dashed-wrapped {border: 1px dashed gray;margin: 0 0.4em 0.5em 0.4em;box-sizing: border-box;padding-bottom: 0.4em;background-color: white;}#sk-container-id-4 div.sk-label label {font-family: monospace;font-weight: bold;display: inline-block;line-height: 1.2em;}#sk-container-id-4 div.sk-label-container {text-align: center;}#sk-container-id-4 div.sk-container {/* jupyter's `normalize.less` sets `[hidden] { display: none; }` but bootstrap.min.css set `[hidden] { display: none !important; }` so we also need the `!important` here to be able to override the default hidden behavior on the sphinx rendered scikit-learn.org. See: https://github.com/scikit-learn/scikit-learn/issues/21755 */display: inline-block !important;position: relative;}#sk-container-id-4 div.sk-text-repr-fallback {display: none;}</style><div id=\"sk-container-id-4\" class=\"sk-top-container\"><div class=\"sk-text-repr-fallback\"><pre>DecisionTreeClassifier(max_depth=3, random_state=22)</pre><b>In a Jupyter environment, please rerun this cell to show the HTML representation or trust the notebook. <br />On GitHub, the HTML representation is unable to render, please try loading this page with nbviewer.org.</b></div><div class=\"sk-container\" hidden><div class=\"sk-item\"><div class=\"sk-estimator sk-toggleable\"><input class=\"sk-toggleable__control sk-hidden--visually\" id=\"sk-estimator-id-4\" type=\"checkbox\" checked><label for=\"sk-estimator-id-4\" class=\"sk-toggleable__label sk-toggleable__label-arrow\">DecisionTreeClassifier</label><div class=\"sk-toggleable__content\"><pre>DecisionTreeClassifier(max_depth=3, random_state=22)</pre></div></div></div></div></div>"
            ]
          },
          "metadata": {},
          "execution_count": 76
        }
      ]
    },
    {
      "cell_type": "code",
      "source": [
        "predict = DecisionTree.predict(X_test)\n",
        "accuracy = accuracy_score(y_test, predict)\n",
        "print(\"Accuracy:\", accuracy)\n",
        "precision = precision_score(y_test, predict, average='weighted')\n",
        "recall = recall_score(y_test, predict, average='weighted')\n",
        "f1 = f1_score(y_test, predict, average='weighted')"
      ],
      "metadata": {
        "colab": {
          "base_uri": "https://localhost:8080/"
        },
        "id": "NhNSnWPp0k9C",
        "outputId": "a9ed5c24-6e69-451e-e0e6-b6f97e300f0a"
      },
      "execution_count": 77,
      "outputs": [
        {
          "output_type": "stream",
          "name": "stdout",
          "text": [
            "Accuracy: 1.0\n"
          ]
        }
      ]
    },
    {
      "cell_type": "markdown",
      "source": [
        "## **RandomForestClassifier**"
      ],
      "metadata": {
        "id": "0t_wBp9U1LRq"
      }
    },
    {
      "cell_type": "code",
      "source": [
        "# Define the parameter grid\n",
        "param_grid = {\n",
        "    'n_estimators': [_ for _ in range(100,500,150)],\n",
        "    'max_depth': [3,5,10],\n",
        "    'random_state': [22,15,33]\n",
        "}\n",
        "\n",
        "# Create the random forest classifier\n",
        "clf = RandomForestClassifier()\n",
        "\n",
        "# Perform grid search\n",
        "grid_search = GridSearchCV(clf, param_grid, cv=5, scoring='accuracy')\n",
        "grid_search.fit(X_train, y_train)\n",
        "\n",
        "# Get the best parameters and best score\n",
        "best_params = grid_search.best_params_\n",
        "best_score = grid_search.best_score_\n",
        "\n",
        "# Train the random forest with the best parameters\n",
        "RandomForest = RandomForestClassifier(**best_params)\n",
        "RandomForest.fit(X_train, y_train)\n"
      ],
      "metadata": {
        "colab": {
          "base_uri": "https://localhost:8080/",
          "height": 75
        },
        "id": "8NudCsrv1Lrq",
        "outputId": "d247630d-0277-4d09-b1af-bbabdae9cf36"
      },
      "execution_count": 78,
      "outputs": [
        {
          "output_type": "execute_result",
          "data": {
            "text/plain": [
              "RandomForestClassifier(max_depth=5, random_state=15)"
            ],
            "text/html": [
              "<style>#sk-container-id-5 {color: black;background-color: white;}#sk-container-id-5 pre{padding: 0;}#sk-container-id-5 div.sk-toggleable {background-color: white;}#sk-container-id-5 label.sk-toggleable__label {cursor: pointer;display: block;width: 100%;margin-bottom: 0;padding: 0.3em;box-sizing: border-box;text-align: center;}#sk-container-id-5 label.sk-toggleable__label-arrow:before {content: \"▸\";float: left;margin-right: 0.25em;color: #696969;}#sk-container-id-5 label.sk-toggleable__label-arrow:hover:before {color: black;}#sk-container-id-5 div.sk-estimator:hover label.sk-toggleable__label-arrow:before {color: black;}#sk-container-id-5 div.sk-toggleable__content {max-height: 0;max-width: 0;overflow: hidden;text-align: left;background-color: #f0f8ff;}#sk-container-id-5 div.sk-toggleable__content pre {margin: 0.2em;color: black;border-radius: 0.25em;background-color: #f0f8ff;}#sk-container-id-5 input.sk-toggleable__control:checked~div.sk-toggleable__content {max-height: 200px;max-width: 100%;overflow: auto;}#sk-container-id-5 input.sk-toggleable__control:checked~label.sk-toggleable__label-arrow:before {content: \"▾\";}#sk-container-id-5 div.sk-estimator input.sk-toggleable__control:checked~label.sk-toggleable__label {background-color: #d4ebff;}#sk-container-id-5 div.sk-label input.sk-toggleable__control:checked~label.sk-toggleable__label {background-color: #d4ebff;}#sk-container-id-5 input.sk-hidden--visually {border: 0;clip: rect(1px 1px 1px 1px);clip: rect(1px, 1px, 1px, 1px);height: 1px;margin: -1px;overflow: hidden;padding: 0;position: absolute;width: 1px;}#sk-container-id-5 div.sk-estimator {font-family: monospace;background-color: #f0f8ff;border: 1px dotted black;border-radius: 0.25em;box-sizing: border-box;margin-bottom: 0.5em;}#sk-container-id-5 div.sk-estimator:hover {background-color: #d4ebff;}#sk-container-id-5 div.sk-parallel-item::after {content: \"\";width: 100%;border-bottom: 1px solid gray;flex-grow: 1;}#sk-container-id-5 div.sk-label:hover label.sk-toggleable__label {background-color: #d4ebff;}#sk-container-id-5 div.sk-serial::before {content: \"\";position: absolute;border-left: 1px solid gray;box-sizing: border-box;top: 0;bottom: 0;left: 50%;z-index: 0;}#sk-container-id-5 div.sk-serial {display: flex;flex-direction: column;align-items: center;background-color: white;padding-right: 0.2em;padding-left: 0.2em;position: relative;}#sk-container-id-5 div.sk-item {position: relative;z-index: 1;}#sk-container-id-5 div.sk-parallel {display: flex;align-items: stretch;justify-content: center;background-color: white;position: relative;}#sk-container-id-5 div.sk-item::before, #sk-container-id-5 div.sk-parallel-item::before {content: \"\";position: absolute;border-left: 1px solid gray;box-sizing: border-box;top: 0;bottom: 0;left: 50%;z-index: -1;}#sk-container-id-5 div.sk-parallel-item {display: flex;flex-direction: column;z-index: 1;position: relative;background-color: white;}#sk-container-id-5 div.sk-parallel-item:first-child::after {align-self: flex-end;width: 50%;}#sk-container-id-5 div.sk-parallel-item:last-child::after {align-self: flex-start;width: 50%;}#sk-container-id-5 div.sk-parallel-item:only-child::after {width: 0;}#sk-container-id-5 div.sk-dashed-wrapped {border: 1px dashed gray;margin: 0 0.4em 0.5em 0.4em;box-sizing: border-box;padding-bottom: 0.4em;background-color: white;}#sk-container-id-5 div.sk-label label {font-family: monospace;font-weight: bold;display: inline-block;line-height: 1.2em;}#sk-container-id-5 div.sk-label-container {text-align: center;}#sk-container-id-5 div.sk-container {/* jupyter's `normalize.less` sets `[hidden] { display: none; }` but bootstrap.min.css set `[hidden] { display: none !important; }` so we also need the `!important` here to be able to override the default hidden behavior on the sphinx rendered scikit-learn.org. See: https://github.com/scikit-learn/scikit-learn/issues/21755 */display: inline-block !important;position: relative;}#sk-container-id-5 div.sk-text-repr-fallback {display: none;}</style><div id=\"sk-container-id-5\" class=\"sk-top-container\"><div class=\"sk-text-repr-fallback\"><pre>RandomForestClassifier(max_depth=5, random_state=15)</pre><b>In a Jupyter environment, please rerun this cell to show the HTML representation or trust the notebook. <br />On GitHub, the HTML representation is unable to render, please try loading this page with nbviewer.org.</b></div><div class=\"sk-container\" hidden><div class=\"sk-item\"><div class=\"sk-estimator sk-toggleable\"><input class=\"sk-toggleable__control sk-hidden--visually\" id=\"sk-estimator-id-5\" type=\"checkbox\" checked><label for=\"sk-estimator-id-5\" class=\"sk-toggleable__label sk-toggleable__label-arrow\">RandomForestClassifier</label><div class=\"sk-toggleable__content\"><pre>RandomForestClassifier(max_depth=5, random_state=15)</pre></div></div></div></div></div>"
            ]
          },
          "metadata": {},
          "execution_count": 78
        }
      ]
    },
    {
      "cell_type": "code",
      "source": [
        "# Make predictions on the test set using the trained classifier\n",
        "y_pred = RandomForest.predict(X_test)\n",
        "\n",
        "# Compute the confusion matrix\n",
        "cm = confusion_matrix(y_test, y_pred)\n",
        "\n",
        "# Compute precision, recall, f1-score, and support\n",
        "classification_rep = classification_report(y_test, y_pred)\n",
        "\n",
        "accuracy = accuracy_score(y_test, y_pred)\n",
        "\n",
        "# Print the accuracy\n",
        "print(\"Accuracy:\", accuracy)"
      ],
      "metadata": {
        "colab": {
          "base_uri": "https://localhost:8080/"
        },
        "id": "dHfCK3KS1tNi",
        "outputId": "2207a2cc-45ca-4901-d19b-999fb4ea9f83"
      },
      "execution_count": 81,
      "outputs": [
        {
          "output_type": "stream",
          "name": "stdout",
          "text": [
            "Accuracy: 1.0\n"
          ]
        }
      ]
    },
    {
      "cell_type": "markdown",
      "source": [
        "# ***LogisticRegression***"
      ],
      "metadata": {
        "id": "S0f902ut3Xab"
      }
    },
    {
      "cell_type": "code",
      "source": [
        "# Define the parameter grid\n",
        "param_grid = {\n",
        "    'penalty': ['l1', 'l2'],\n",
        "    'C': [0.001, 0.01, 0.1, 1, 10, 100]\n",
        "}\n",
        "\n",
        "# Create the Logistic Regression model\n",
        "logreg = LogisticRegression()\n",
        "\n",
        "# Perform grid search\n",
        "grid_search = GridSearchCV(logreg, param_grid, cv=5)\n",
        "grid_search.fit(X_train, y_train)\n",
        "\n",
        "# Get the best parameters and best score\n",
        "best_params = grid_search.best_params_\n",
        "best_score = grid_search.best_score_\n",
        "\n",
        "# Train the Logistic Regression model with the best parameters\n",
        "logreg_best = LogisticRegression(**best_params)\n",
        "logreg_best.fit(X_train, y_train)\n",
        "# Make predictions on the testing set\n",
        "y_pred = logreg_best.predict(X_test)\n",
        "# Calculate the accuracy of the Logistic Regression model\n",
        "accuracy = accuracy_score(y_test, y_pred)\n",
        "print('Accuracy:', accuracy)\n",
        "print(\"Best Parameters:\", best_params)\n",
        "print(\"Best Score:\", best_score)"
      ],
      "metadata": {
        "colab": {
          "base_uri": "https://localhost:8080/"
        },
        "id": "0HaWjSHw3hvT",
        "outputId": "aaf49a71-576a-4318-84af-b54aac68d60b"
      },
      "execution_count": 82,
      "outputs": [
        {
          "output_type": "stream",
          "name": "stdout",
          "text": [
            "Accuracy: 1.0\n",
            "Best Parameters: {'C': 0.1, 'penalty': 'l2'}\n",
            "Best Score: 1.0\n"
          ]
        }
      ]
    },
    {
      "cell_type": "markdown",
      "source": [
        "## ***AdaBoostClassifier***"
      ],
      "metadata": {
        "id": "D7HsEmqN3Oiq"
      }
    },
    {
      "cell_type": "markdown",
      "source": [
        "***find best_base_estimator***"
      ],
      "metadata": {
        "id": "2ZYWujJM30-K"
      }
    },
    {
      "cell_type": "code",
      "source": [
        "param_grid = {\n",
        "    'n_estimators': [50, 100, 200, 500],\n",
        "    'learning_rate': [0.01, 0.1, 0.5, 1, 2,4]\n",
        "}\n",
        "\n",
        "# Create a grid search object with cross-validation\n",
        "grid_search = GridSearchCV(AdaBoostClassifier(), param_grid, cv=5)\n",
        "\n",
        "# Fit the grid search object to the data\n",
        "grid_search.fit(X_train, y_train)\n",
        "\n",
        "# Print the best hyperparameters and corresponding accuracy\n",
        "print(\"Best Hyperparameters: \", grid_search.best_params_)\n",
        "print(\"Best Accuracy: \", grid_search.best_score_)"
      ],
      "metadata": {
        "colab": {
          "base_uri": "https://localhost:8080/"
        },
        "id": "K3y67dz96Opc",
        "outputId": "e3763bb6-0785-4f78-bbf1-4f94c06e3ae7"
      },
      "execution_count": 83,
      "outputs": [
        {
          "output_type": "stream",
          "name": "stdout",
          "text": [
            "Best Hyperparameters:  {'learning_rate': 0.01, 'n_estimators': 50}\n",
            "Best Accuracy:  1.0\n"
          ]
        }
      ]
    },
    {
      "cell_type": "code",
      "source": [
        "results = []\n",
        "\n",
        "# Loop over all hyperparameters combinations\n",
        "for params in grid_search.cv_results_['params']:\n",
        "    n_estimators = params['n_estimators']\n",
        "    learning_rate = params['learning_rate']\n",
        "    \n",
        "    # Train an AdaBoost classifier with the current hyperparameters\n",
        "    ada = AdaBoostClassifier(n_estimators=n_estimators, learning_rate=learning_rate, random_state=42)\n",
        "    ada.fit(X_train, y_train)\n",
        "    \n",
        "    # Predict the labels of the training data using the ensemble of weak learners\n",
        "    y_pred_train = ada.predict(X_train)\n",
        "    \n",
        "    # Calculate the exponential loss of the training data\n",
        "    exp_loss_train = log_loss(y_train, ada.decision_function(X_train), labels=ada.classes_)\n",
        "    \n",
        "    # Predict the labels of the testing data using the ensemble of weak learners\n",
        "    y_pred_test = ada.predict(X_test)\n",
        "    \n",
        "    # Calculate the exponential loss of the testing data\n",
        "    exp_loss_test = log_loss(y_test, ada.decision_function(X_test), labels=ada.classes_)\n",
        "    \n",
        "    results.append({\n",
        "        \"n_estimators\": n_estimators,\n",
        "        \"learning_rate\": learning_rate,\n",
        "        \"exp_loss_train\": exp_loss_train,\n",
        "        \"exp_loss_test\": exp_loss_test\n",
        "    })\n"
      ],
      "metadata": {
        "id": "5SSjnBOW6I5W"
      },
      "execution_count": 84,
      "outputs": []
    },
    {
      "cell_type": "code",
      "source": [
        "sorted_results = sorted(results, key=lambda x: x['exp_loss_test'])[0]\n",
        "sorted_results"
      ],
      "metadata": {
        "colab": {
          "base_uri": "https://localhost:8080/"
        },
        "id": "NgpyqV9Z7LUg",
        "outputId": "d0d6305e-673a-4cd3-bfda-8854118f13aa"
      },
      "execution_count": 85,
      "outputs": [
        {
          "output_type": "execute_result",
          "data": {
            "text/plain": [
              "{'n_estimators': 50,\n",
              " 'learning_rate': 0.01,\n",
              " 'exp_loss_train': 2.2204460492503136e-16,\n",
              " 'exp_loss_test': 2.2204460492503136e-16}"
            ]
          },
          "metadata": {},
          "execution_count": 85
        }
      ]
    },
    {
      "cell_type": "code",
      "source": [
        "# Define a list of base estimators to try\n",
        "base_estimators = [\n",
        "    logreg_best,\n",
        "    svm,\n",
        "    DecisionTree,\n",
        "    RandomForest\n",
        "]\n",
        "\n",
        "best_accuracy = 0.0\n",
        "best_base_estimator = None\n",
        "\n",
        "# Iterate over the base estimators\n",
        "for base_estimator in base_estimators:\n",
        "    # Create the AdaBoost classifier with the current base estimator\n",
        "    ada = AdaBoostClassifier(base_estimator=base_estimator, n_estimators=sorted_results[\"n_estimators\"],learning_rate =sorted_results[\"learning_rate\"], algorithm='SAMME', random_state=1)\n",
        "    \n",
        "    # Perform cross-validation to evaluate the performance\n",
        "    scores = cross_val_score(ada, X_train, y_train, cv=5)\n",
        "    avg_accuracy = scores.mean()\n",
        "    \n",
        "    # Check if the current base estimator gives a better accuracy\n",
        "    if avg_accuracy > best_accuracy:\n",
        "        best_accuracy = avg_accuracy\n",
        "        best_base_estimator = base_estimator\n",
        "\n",
        "# Train the AdaBoost classifier with the best base estimator on the training set\n",
        "ada_best = AdaBoostClassifier(base_estimator=best_base_estimator, n_estimators=100, algorithm='SAMME', random_state=1)\n",
        "ada_best.fit(X_train, y_train)\n",
        "\n",
        "# Make predictions on the testing set\n",
        "y_pred = ada_best.predict(X_test)\n",
        "\n",
        "# Calculate the accuracy of the AdaBoost classifier with the best base estimator\n",
        "accuracy = accuracy_score(y_test, y_pred)\n",
        "print('Best Base Estimator:', best_base_estimator)\n",
        "print('Accuracy:', accuracy)\n"
      ],
      "metadata": {
        "colab": {
          "base_uri": "https://localhost:8080/"
        },
        "id": "ln_Z9ow63P_T",
        "outputId": "37089577-8140-4282-daf6-1321b6ff1cc7"
      },
      "execution_count": 86,
      "outputs": [
        {
          "output_type": "stream",
          "name": "stdout",
          "text": [
            "Best Base Estimator: DecisionTreeClassifier(max_depth=3, random_state=22)\n",
            "Accuracy: 1.0\n"
          ]
        }
      ]
    },
    {
      "cell_type": "code",
      "source": [
        "ada = AdaBoostClassifier(base_estimator=best_base_estimator, n_estimators=sorted_results[\"n_estimators\"], learning_rate=sorted_results[\"learning_rate\"], random_state=1)\n",
        "\n",
        "# Train the AdaBoost classifier on the training set\n",
        "ada.fit(X_train, y_train)\n",
        "\n",
        "# Make predictions on the testing set\n",
        "y_pred = ada.predict(X_test) \n",
        "\n",
        "# Calculate the accuracy of the AdaBoost classifier\n",
        "accuracy = accuracy_score(y_test, y_pred)\n",
        "print('Accuracy:', accuracy)\n"
      ],
      "metadata": {
        "colab": {
          "base_uri": "https://localhost:8080/"
        },
        "id": "HKAjxS8n56Zg",
        "outputId": "39f0f2a0-63d3-4f65-dfbd-85d88e33519f"
      },
      "execution_count": 87,
      "outputs": [
        {
          "output_type": "stream",
          "name": "stdout",
          "text": [
            "Accuracy: 1.0\n"
          ]
        }
      ]
    },
    {
      "cell_type": "code",
      "source": [
        "from sklearn.ensemble import VotingClassifier\n",
        "\n",
        "# Define the individual models\n",
        "logreg = LogisticRegression(C=best_params['C'], penalty=best_params['penalty'])\n",
        "ada = AdaBoostClassifier(base_estimator=base_estimator, n_estimators=sorted_results[\"n_estimators\"], learning_rate=sorted_results[\"learning_rate\"], random_state=1)\n",
        "rf = RandomForestClassifier(max_depth=10, random_state=15)\n",
        "dt = DecisionTreeClassifier(criterion='entropy', max_depth=4, random_state=22)\n",
        "\n",
        "# Create the Voting Classifier with the individual models\n",
        "voting_classifier = VotingClassifier(\n",
        "    estimators=[('logreg', logreg), ('ada', ada), ('rf', rf), ('dt', dt)],\n",
        "    voting='hard'  # Use majority voting\n",
        ")\n",
        "\n",
        "# Train the Voting Classifier\n",
        "voting_classifier.fit(X_train, y_train)\n",
        "\n",
        "# Make predictions on the testing set\n",
        "y_pred = voting_classifier.predict(X_test)\n",
        "\n",
        "# Calculate the accuracy of the Voting Classifier\n",
        "accuracy = accuracy_score(y_test, y_pred)\n",
        "print('Accuracy:', accuracy)\n"
      ],
      "metadata": {
        "colab": {
          "base_uri": "https://localhost:8080/"
        },
        "id": "-HBR2Kc7BFnM",
        "outputId": "5ddadb08-e484-4115-a179-23f4131c36cd"
      },
      "execution_count": 88,
      "outputs": [
        {
          "output_type": "stream",
          "name": "stdout",
          "text": [
            "Accuracy: 1.0\n"
          ]
        }
      ]
    },
    {
      "cell_type": "code",
      "source": [],
      "metadata": {
        "id": "XV7_pJYiBJgL"
      },
      "execution_count": null,
      "outputs": []
    }
  ]
}